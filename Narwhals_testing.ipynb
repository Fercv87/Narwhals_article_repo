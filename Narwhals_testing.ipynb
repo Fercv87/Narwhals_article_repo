{
 "cells": [
  {
   "cell_type": "code",
   "execution_count": null,
   "id": "e9dfed1d",
   "metadata": {},
   "outputs": [],
   "source": [
    "# !pip install narwhals pandas polars pyarrow\n"
   ]
  },
  {
   "cell_type": "code",
   "execution_count": 2,
   "id": "d18d9549",
   "metadata": {},
   "outputs": [],
   "source": [
    "import pandas as pd\n",
    "import numpy as np\n",
    "import narwhals as nw\n",
    "import polars as pl"
   ]
  },
  {
   "cell_type": "code",
   "execution_count": null,
   "id": "3c0857cc",
   "metadata": {},
   "outputs": [
    {
     "name": "stdout",
     "output_type": "stream",
     "text": [
      "(200000000, 2) (20000, 2)\n",
      "      id   value\n",
      "0   1785   54.31\n",
      "1  15479  123.47\n",
      "2  13091  -15.55 \n",
      "       id region\n",
      "0   1785  North\n",
      "1  15479   West\n",
      "2  13091  North\n",
      "<class 'pandas.core.frame.DataFrame'>\n",
      "RangeIndex: 200000000 entries, 0 to 199999999\n",
      "Data columns (total 2 columns):\n",
      " #   Column  Dtype  \n",
      "---  ------  -----  \n",
      " 0   id      int64  \n",
      " 1   value   float64\n",
      "dtypes: float64(1), int64(1)\n",
      "memory usage: 3.0 GB\n",
      "None\n"
     ]
    }
   ],
   "source": [
    "# Create synthetic dataset using pandas (as a native DataFrame)\n",
    "num_rows = 200_000_000  # 200M rows for demonstration\n",
    "rng = np.random.default_rng(seed=42)\n",
    "pdf_sales = pd.DataFrame({\n",
    "    \"id\": rng.integers(0, 20_000, size=num_rows),        # many repeat IDs to allow groupby\n",
    "    \"value\": rng.normal(loc=100.0, scale=50.0, size=num_rows).round(2),  # some numeric value\n",
    "})\n",
    "# Create a region mapping: each id gets a region label (e.g., \"North\",\"South\",\"East\",\"West\")\n",
    "unique_ids = pdf_sales[\"id\"].unique()\n",
    "regions = [\"North\", \"South\", \"East\", \"West\"]\n",
    "id_to_region = {id_val: rng.choice(regions) for id_val in unique_ids}\n",
    "pdf_regions = pd.DataFrame({\n",
    "    \"id\": list(id_to_region.keys()),\n",
    "    \"region\": [id_to_region[i] for i in id_to_region.keys()]\n",
    "})\n",
    "# Quick peek at data shape\n",
    "print(pdf_sales.shape, pdf_regions.shape)\n",
    "print(pdf_sales.head(3), \"\\n\", pdf_regions.head(3))\n",
    "print(pdf_sales.info())"
   ]
  },
  {
   "cell_type": "code",
   "execution_count": 4,
   "id": "e5f897e6",
   "metadata": {},
   "outputs": [
    {
     "name": "stdout",
     "output_type": "stream",
     "text": [
      "<class 'pandas.core.frame.DataFrame'>\n",
      "RangeIndex: 20000 entries, 0 to 19999\n",
      "Data columns (total 2 columns):\n",
      " #   Column  Non-Null Count  Dtype \n",
      "---  ------  --------------  ----- \n",
      " 0   id      20000 non-null  int64 \n",
      " 1   region  20000 non-null  object\n",
      "dtypes: int64(1), object(1)\n",
      "memory usage: 312.6+ KB\n",
      "None\n"
     ]
    }
   ],
   "source": [
    "print(pdf_regions.info())"
   ]
  },
  {
   "cell_type": "code",
   "execution_count": 5,
   "id": "f52adf40",
   "metadata": {},
   "outputs": [],
   "source": [
    "# Convert to Polars DataFrames for demonstration\n",
    "pl_sales = pl.DataFrame(pdf_sales)\n",
    "pl_regions = pl.DataFrame(pdf_regions)"
   ]
  },
  {
   "cell_type": "code",
   "execution_count": 6,
   "id": "b74bceeb",
   "metadata": {},
   "outputs": [],
   "source": [
    "# Wrap the pandas dataframes with Narwhals\n",
    "df_sales_nw = nw.from_native(pdf_sales)\n",
    "df_regions_nw = nw.from_native(pdf_regions)"
   ]
  },
  {
   "cell_type": "code",
   "execution_count": 7,
   "id": "itnv2enxx7s",
   "metadata": {},
   "outputs": [],
   "source": [
    "  # For a comprehensive overview similar to pandas .info()\n",
    "def polars_info(df):\n",
    "    print(f\"Shape: {df.shape}\")\n",
    "    print(f\"Memory usage: {df.estimated_size() / (1024**2):.2f} MB\")\n",
    "    print(\"\\nColumn info:\")\n",
    "    for name, dtype in df.schema.items():\n",
    "        print(f\"  {name}: {dtype}\")"
   ]
  },
  {
   "cell_type": "code",
   "execution_count": 8,
   "id": "ba7fef2c",
   "metadata": {},
   "outputs": [
    {
     "name": "stdout",
     "output_type": "stream",
     "text": [
      "Shape: (200000000, 2)\n",
      "Memory usage: 3051.76 MB\n",
      "\n",
      "Column info:\n",
      "  id: Int64\n",
      "  value: Float64\n",
      "Shape: (20000, 2)\n",
      "Memory usage: 1.63 MB\n",
      "\n",
      "Column info:\n",
      "  id: Int64\n",
      "  region: String\n"
     ]
    }
   ],
   "source": [
    "polars_info(df_sales_nw)\n",
    "polars_info(df_regions_nw)"
   ]
  },
  {
   "cell_type": "code",
   "execution_count": null,
   "id": "adb4a728",
   "metadata": {},
   "outputs": [],
   "source": []
  },
  {
   "cell_type": "code",
   "execution_count": null,
   "id": "939276b5",
   "metadata": {},
   "outputs": [
    {
     "name": "stdout",
     "output_type": "stream",
     "text": [
      "After join, columns: ['id', 'value', 'region']\n",
      "Sample row (native): {'id': 1785, 'value': 54.31, 'region': 'North'}\n",
      "Post-filter shape (native): (195448682, 4)\n",
      "Summary by region (pandas):\n",
      "   region   total_value   avg_value  transaction_count\n",
      "0  North  5.038577e+09  102.766448           49029396\n",
      "1   West  5.101366e+09  102.751330           49647685\n",
      "2   East  4.878919e+09  102.760417           47478583\n",
      "3  South  5.065127e+09  102.755460           49293018\n",
      "Execution time: 39.0191 seconds\n"
     ]
    }
   ],
   "source": [
    "import time\n",
    "start_time = time.time()\n",
    "# 1. Join sales with region labels on 'id'\n",
    "df_joined = df_sales_nw.join(df_regions_nw, on=\"id\", how=\"inner\")\n",
    "print(\"After join, columns:\", df_joined.columns)\n",
    "print(\"Sample row (native):\", nw.to_native(df_joined).iloc[0].to_dict())\n",
    "# 2. Add a derived column: value normalized by overall mean\n",
    "overall_mean = pdf_sales[\"value\"].mean()  # compute using pandas for reference\n",
    "df_joined = df_joined.with_columns(\n",
    "    (nw.col(\"value\") / overall_mean).alias(\"value_norm\")\n",
    ")\n",
    "# 3. Filter rows: keep only transactions with positive value\n",
    "df_joined = df_joined.filter(nw.col(\"value\") > 0)\n",
    "print(\"Post-filter shape (native):\", nw.to_native(df_joined).shape)\n",
    "# 4. Group by region and aggregate total and average value\n",
    "df_summary = df_joined.group_by(\"region\").agg(\n",
    "    nw.col(\"value\").sum().alias(\"total_value\"),\n",
    "    nw.col(\"value\").mean().alias(\"avg_value\"),\n",
    "    nw.len().alias(\"transaction_count\")\n",
    ")\n",
    "# Convert result to native pandas for display\n",
    "summary_native = nw.to_native(df_summary)\n",
    "print(\"Summary by region (pandas):\\n\", summary_native)\n",
    "end_time = time.time()\n",
    "print(f\"Execution time: {end_time - start_time:.4f} seconds\")"
   ]
  },
  {
   "cell_type": "code",
   "execution_count": 15,
   "id": "5790ab61",
   "metadata": {},
   "outputs": [
    {
     "name": "stdout",
     "output_type": "stream",
     "text": [
      "<class 'narwhals.dataframe.DataFrame'>\n"
     ]
    }
   ],
   "source": [
    "print(type(df_sales_nw))"
   ]
  },
  {
   "cell_type": "code",
   "execution_count": null,
   "id": "4f761364",
   "metadata": {},
   "outputs": [
    {
     "name": "stdout",
     "output_type": "stream",
     "text": [
      "  region           sum        mean     count\n",
      "0   East  4.878919e+09  102.760417  47478583\n",
      "1  North  5.038577e+09  102.766448  49029396\n",
      "2  South  5.065127e+09  102.755460  49293018\n",
      "3   West  5.101366e+09  102.751330  49647685\n",
      "Execution time: 34.1956 seconds\n"
     ]
    }
   ],
   "source": [
    "start_time = time.time()\n",
    "# Verification using direct pandas (should match summary_native)\n",
    "check = pdf_sales.merge(pdf_regions, on=\"id\").query(\"value > 0\").groupby(\"region\")[\"value\"].agg(['sum','mean','count'])\n",
    "print(check.reset_index())\n",
    "end_time = time.time()\n",
    "print(f\"Execution time: {end_time - start_time:.4f} seconds\")\n"
   ]
  },
  {
   "cell_type": "code",
   "execution_count": 16,
   "id": "9534d555",
   "metadata": {},
   "outputs": [
    {
     "name": "stdout",
     "output_type": "stream",
     "text": [
      "<class 'pandas.core.frame.DataFrame'>\n"
     ]
    }
   ],
   "source": [
    "print(type(check))"
   ]
  },
  {
   "cell_type": "code",
   "execution_count": null,
   "id": "fff8e5d6",
   "metadata": {},
   "outputs": [
    {
     "name": "stdout",
     "output_type": "stream",
     "text": [
      "Summary by region (Polars):\n",
      " shape: (4, 4)\n",
      "┌────────┬─────────────┬────────────┬───────────────────┐\n",
      "│ region ┆ total_value ┆ avg_value  ┆ transaction_count │\n",
      "│ ---    ┆ ---         ┆ ---        ┆ ---               │\n",
      "│ str    ┆ f64         ┆ f64        ┆ u32               │\n",
      "╞════════╪═════════════╪════════════╪═══════════════════╡\n",
      "│ South  ┆ 5.0651e9    ┆ 102.75546  ┆ 49293018          │\n",
      "│ North  ┆ 5.0386e9    ┆ 102.766448 ┆ 49029396          │\n",
      "│ West   ┆ 5.1014e9    ┆ 102.75133  ┆ 49647685          │\n",
      "│ East   ┆ 4.8789e9    ┆ 102.760417 ┆ 47478583          │\n",
      "└────────┴─────────────┴────────────┴───────────────────┘\n",
      "Execution time: 7.5713 seconds\n"
     ]
    }
   ],
   "source": [
    "start_time = time.time()\n",
    "# Using Polars directly (no Narwhals) for comparison:\n",
    "pl_summary = (pl_sales.join(pl_regions, on=\"id\", how=\"inner\")\n",
    "                        .filter(pl.col(\"value\") > 0)\n",
    "                        .with_columns((pl.col(\"value\") / pl.col(\"value\").mean()).alias(\"value_norm\"))\n",
    "                        .group_by(\"region\")\n",
    "                        .agg([\n",
    "                            pl.col(\"value\").sum().alias(\"total_value\"),\n",
    "                            pl.col(\"value\").mean().alias(\"avg_value\"),\n",
    "                            pl.col(\"value\").len().alias(\"transaction_count\")\n",
    "                        ])\n",
    "             )\n",
    "print(\"Summary by region (Polars):\\n\", pl_summary)\n",
    "end_time = time.time()\n",
    "print(f\"Execution time: {end_time - start_time:.4f} seconds\")"
   ]
  },
  {
   "cell_type": "code",
   "execution_count": 17,
   "id": "c0817649",
   "metadata": {},
   "outputs": [
    {
     "name": "stdout",
     "output_type": "stream",
     "text": [
      "<class 'polars.dataframe.frame.DataFrame'>\n"
     ]
    }
   ],
   "source": [
    "print(type(pl_summary))"
   ]
  },
  {
   "cell_type": "code",
   "execution_count": null,
   "id": "166bbb67",
   "metadata": {},
   "outputs": [
    {
     "name": "stdout",
     "output_type": "stream",
     "text": [
      "Summary by region (via Narwhals on Polars):\n",
      " shape: (4, 4)\n",
      "┌────────┬─────────────┬────────────┬───────────────────┐\n",
      "│ region ┆ total_value ┆ avg_value  ┆ transaction_count │\n",
      "│ ---    ┆ ---         ┆ ---        ┆ ---               │\n",
      "│ str    ┆ f64         ┆ f64        ┆ u32               │\n",
      "╞════════╪═════════════╪════════════╪═══════════════════╡\n",
      "│ West   ┆ 5.1014e9    ┆ 102.75133  ┆ 49647685          │\n",
      "│ East   ┆ 4.8789e9    ┆ 102.760417 ┆ 47478583          │\n",
      "│ South  ┆ 5.0651e9    ┆ 102.75546  ┆ 49293018          │\n",
      "│ North  ┆ 5.0386e9    ┆ 102.766448 ┆ 49029396          │\n",
      "└────────┴─────────────┴────────────┴───────────────────┘\n",
      "Execution time: 10.4196 seconds\n"
     ]
    }
   ],
   "source": [
    "start_time = time.time()\n",
    "# Wrap Polars dataframes with Narwhals and reuse the same transformation pipeline\n",
    "df_sales_nw_pl = nw.from_native(pl_sales)\n",
    "df_regions_nw_pl = nw.from_native(pl_regions)\n",
    "df_summary_pl = (df_sales_nw_pl.join(df_regions_nw_pl, on=\"id\", how=\"inner\")\n",
    "                                .filter(nw.col(\"value\") > 0)\n",
    "                                .with_columns((nw.col(\"value\") / pl_sales[\"value\"].mean()).alias(\"value_norm\")) \n",
    "                                .group_by(\"region\")\n",
    "                                .agg(\n",
    "                                    nw.col(\"value\").sum().alias(\"total_value\"),\n",
    "                                    nw.col(\"value\").mean().alias(\"avg_value\"),\n",
    "                                    nw.len().alias(\"transaction_count\")\n",
    "                                ))\n",
    "summary_pl_native = nw.to_native(df_summary_pl)  # this will be a Polars DataFrame\n",
    "print(\"Summary by region (via Narwhals on Polars):\\n\", summary_pl_native)\n",
    "end_time = time.time()\n",
    "print(f\"Execution time: {end_time - start_time:.4f} seconds\")"
   ]
  },
  {
   "cell_type": "code",
   "execution_count": 18,
   "id": "a3e7b12c",
   "metadata": {},
   "outputs": [
    {
     "name": "stdout",
     "output_type": "stream",
     "text": [
      "<class 'narwhals.dataframe.DataFrame'>\n"
     ]
    }
   ],
   "source": [
    "print(type(df_summary_pl))"
   ]
  }
 ],
 "metadata": {
  "kernelspec": {
   "display_name": "python_env",
   "language": "python",
   "name": "python3"
  },
  "language_info": {
   "codemirror_mode": {
    "name": "ipython",
    "version": 3
   },
   "file_extension": ".py",
   "mimetype": "text/x-python",
   "name": "python",
   "nbconvert_exporter": "python",
   "pygments_lexer": "ipython3",
   "version": "3.12.3"
  }
 },
 "nbformat": 4,
 "nbformat_minor": 5
}
